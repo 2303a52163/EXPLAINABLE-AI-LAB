{
  "nbformat": 4,
  "nbformat_minor": 0,
  "metadata": {
    "colab": {
      "provenance": [],
      "authorship_tag": "ABX9TyMiK2EitoUDbSk0bAvHqVBx",
      "include_colab_link": true
    },
    "kernelspec": {
      "name": "python3",
      "display_name": "Python 3"
    },
    "language_info": {
      "name": "python"
    }
  },
  "cells": [
    {
      "cell_type": "markdown",
      "metadata": {
        "id": "view-in-github",
        "colab_type": "text"
      },
      "source": [
        "<a href=\"https://colab.research.google.com/github/2303a52163/EXPLAINABLE-AI-LAB/blob/main/2303A52163_B34_LAB_ASSIGNMENT_1.ipynb\" target=\"_parent\"><img src=\"https://colab.research.google.com/assets/colab-badge.svg\" alt=\"Open In Colab\"/></a>"
      ]
    },
    {
      "cell_type": "markdown",
      "source": [
        "1. DriveFast–CarRentalApp\n",
        "\n",
        "Context:\n",
        "\n",
        " DriveFastseesadirectimpactofappdownloadsonthenumberofbookingsmadedaily.\n",
        "\n",
        " AppDownloads(x100s):\n",
        "\n",
        " 2\n",
        " 3\n",
        " 1\n",
        " 2\n",
        " 4\n",
        "\n",
        " DailyBookings(y):\n",
        "\n",
        " 40\n",
        " 55\n",
        " 30\n",
        " 45\n",
        " 65\n",
        "\n",
        " Objective:\n",
        "\n",
        " AnalyzetheeffectofappdownloadsondailybookingsforDriveFastbyperformingLinear\n",
        " RegressionandinterpretingSHAPvalues.\n",
        "\n",
        " Requirements:\n",
        "\n",
        " 1. PerformLinearRegressionAnalysis\n",
        "\n",
        " o Usethegivendatasetwhere:\n",
        "\n",
        "  IndependentVariable(x):AppDownloads(in100s)\n",
        "\n",
        "  DependentVariable(y):DailyBookings\n",
        "\n",
        " 2. CalculatetheBaselineValue\n",
        "\n",
        " o Computethemeanofalldailybookings(yvalues).\n",
        "\n",
        " 3. CalculateSHAPValues\n",
        "\n",
        " o Foreachrecord,calculatethedifferencebetweenthepredictedvalueandthebaseline.\n",
        "\n",
        " o ThisdifferenceistheSHAPvalue,attributedtothenumberofappdownloads.\n",
        "\n",
        " 4. ComputeFinalPrediction\n",
        "\n",
        " o Usethelinearregressionmodeltocalculatepredictedbookingsforeachdownload\n",
        " count.\n",
        "\n",
        " o Confirmthat:\n",
        " FinalPrediction=Baseline+SHAPValue\\text{FinalPrediction}=\\text{Baseline}+\n",
        " \\text{SHAPValue}FinalPrediction=Baseline+SHAPValue\n",
        "\n",
        " 5. InterprettheResults\n",
        "\n",
        " o Explainhowthenumberofdownloadsinfluencedeachpredictedbookingvalue.\n",
        "\n",
        " o Comparethepredictedvaluetotheactualvalueforeachrow.\n",
        "\n",
        " o Identifyunderpredictionoroverprediction,andprovidereasoning.\n",
        "\n",
        " Deliverables:\n",
        "\n",
        "Anotebookordocumentcontaining:\n",
        "\n",
        "  Linearregressionimplementationwithcoefficients\n",
        "\n",
        "  Baseline(meanofy)\n",
        "\n",
        "  TableofSHAPvaluesandpredictions\n",
        "\n",
        "  Explanationofhoweachinputinfluencedtheprediction\n",
        "\n",
        "  Comparisonofpredictedvsactualvalues,withover/underpredictionnotes\n",
        "\n",
        "  Summaryanalysiscovering:\n",
        "\n",
        " o Accuracyofthemodel\n",
        "\n",
        " o Trendanalysis\n",
        "\n",
        " o SHAPinterpretationinsight"
      ],
      "metadata": {
        "id": "2a0PEqoI_E_9"
      }
    },
    {
      "cell_type": "code",
      "execution_count": 81,
      "metadata": {
        "id": "GoUyHaKV9sx5"
      },
      "outputs": [],
      "source": [
        "import pandas as pd\n",
        "import numpy as np\n",
        "from sklearn.linear_model import LinearRegression\n",
        "\n",
        "\n",
        "data = pd.DataFrame({\n",
        "    'AppDownloads': [2, 3, 1, 2, 4],\n",
        "    'DailyBookings': [40, 55, 30, 45, 65]\n",
        "})"
      ]
    },
    {
      "cell_type": "code",
      "source": [
        "X = data[['AppDownloads']]\n",
        "y = data['DailyBookings']\n",
        "\n",
        "\n",
        "model = LinearRegression()\n",
        "model.fit(X, y)\n",
        "\n",
        "\n",
        "coef = model.coef_[0]\n",
        "intercept = model.intercept_\n",
        "\n",
        "print(f\"Intercept: {intercept:.2f}\")\n",
        "print(f\"Coefficient: {coef:.2f}\")\n"
      ],
      "metadata": {
        "colab": {
          "base_uri": "https://localhost:8080/"
        },
        "id": "DeqTfBTE-HZL",
        "outputId": "014e8ce0-82bd-4409-dbee-575216373b4b"
      },
      "execution_count": 82,
      "outputs": [
        {
          "output_type": "stream",
          "name": "stdout",
          "text": [
            "Intercept: 18.85\n",
            "Coefficient: 11.73\n"
          ]
        }
      ]
    },
    {
      "cell_type": "code",
      "source": [
        "baseline = y.mean()\n",
        "print(f\"Baseline (mean of y): {baseline:.2f}\")"
      ],
      "metadata": {
        "colab": {
          "base_uri": "https://localhost:8080/"
        },
        "id": "CrygFQXX-S2w",
        "outputId": "bf17914b-d713-4be9-cbe3-270244127b87"
      },
      "execution_count": 83,
      "outputs": [
        {
          "output_type": "stream",
          "name": "stdout",
          "text": [
            "Baseline (mean of y): 47.00\n"
          ]
        }
      ]
    },
    {
      "cell_type": "code",
      "source": [
        "data['Predicted'] = model.predict(X)\n",
        "data['SHAP_Value'] = data['Predicted'] - baseline\n",
        "data['Check'] = baseline + data['SHAP_Value']  #"
      ],
      "metadata": {
        "id": "3skkwMC--YIO"
      },
      "execution_count": 84,
      "outputs": []
    },
    {
      "cell_type": "code",
      "source": [
        "result = data.copy()\n",
        "result['Difference'] = result['Predicted'] - result['DailyBookings']\n",
        "result['Prediction_Type'] = np.where(result['Difference'] > 0, 'Overprediction', 'Underprediction')\n",
        "print(result)\n"
      ],
      "metadata": {
        "colab": {
          "base_uri": "https://localhost:8080/"
        },
        "id": "8Utx52KJ-fQx",
        "outputId": "86804db6-7cd7-41cd-a843-51caa51bcbba"
      },
      "execution_count": 85,
      "outputs": [
        {
          "output_type": "stream",
          "name": "stdout",
          "text": [
            "   AppDownloads  DailyBookings  Predicted  SHAP_Value      Check  Difference  \\\n",
            "0             2             40  42.307692   -4.692308  42.307692    2.307692   \n",
            "1             3             55  54.038462    7.038462  54.038462   -0.961538   \n",
            "2             1             30  30.576923  -16.423077  30.576923    0.576923   \n",
            "3             2             45  42.307692   -4.692308  42.307692   -2.692308   \n",
            "4             4             65  65.769231   18.769231  65.769231    0.769231   \n",
            "\n",
            "   Prediction_Type  \n",
            "0   Overprediction  \n",
            "1  Underprediction  \n",
            "2   Overprediction  \n",
            "3  Underprediction  \n",
            "4   Overprediction  \n"
          ]
        }
      ]
    },
    {
      "cell_type": "markdown",
      "source": [
        "2.DriveFast–CarRentalDemandPredictionusingMultipleLinear\n",
        " RegressionandSHAPAnalysis\n",
        "\n",
        " Objective:\n",
        "\n",
        " AssesshowfuelpriceandthepresenceofaholidayinfluencedailycarrentaldemandusingMultiple\n",
        "\n",
        " LinearRegressionandinterprettheresultsusingSHAPvalueanalysis.\n",
        "\n",
        " GivenDataset:\n",
        "\n",
        " FuelPrice(x₁)\n",
        "\n",
        " 90\n",
        " 85\n",
        " 95\n",
        " 80\n",
        " 92\n",
        "\n",
        " Holiday(1/0)(x₂)\n",
        "\n",
        "0\n",
        "1\n",
        "0\n",
        "1\n",
        "0\n",
        "\n",
        " Rentals(y)\n",
        "\n",
        "100\n",
        "130\n",
        "90\n",
        "140\n",
        "95\n",
        "\n",
        " Tasks:\n",
        "\n",
        " 1. PerformMultipleLinearRegressionAnalysis\n",
        "\n",
        " o UseFuelPriceandHoliday(1=Yes,0=No)asindependentvariables\n",
        "\n",
        " o UseRentalsasthedependentvariable\n",
        "\n",
        " 2. CalculatetheBaselineValue\n",
        "\n",
        " o Computethemeanofallrentalvalues\n",
        "\n",
        " 3. CalculateSHAPValues\n",
        "\n",
        " o ComputeSHAPvalue\n",
        "\n",
        " o DistributeSHAPcontributionsbetweenFuelPriceandHolidaybasedonmodel\n",
        " coefficients\n",
        "\n",
        " 4. ComputeFinalPredictionforEachRecord\n",
        "\n",
        " o Usetheregressionequation\n",
        "\n",
        " o Verify:Prediction=Baseline+SHAP(FuelPrice)+SHAP(Holiday)\n",
        "\n",
        " 5. InterprettheResults\n",
        "\n",
        " o Foreachrecord,explainhowfuelpriceandholidaycontributedtotheprediction\n",
        "\n",
        " o Comparepredictedvsactualrentals\n",
        "\n",
        " o Mentionifthemodeloverpredictedorunderpredicted,andprovidepossiblereasoning"
      ],
      "metadata": {
        "id": "2YvfWsXk_6r_"
      }
    },
    {
      "cell_type": "code",
      "source": [
        "import numpy as np\n",
        "import pandas as pd\n",
        "\n",
        "x1 = np.array([90, 85, 95, 80, 92], dtype=float)\n",
        "x2 = np.array([0, 1, 0, 1, 0], dtype=float)\n",
        "y  = np.array([100, 130, 90, 140, 95], dtype=float)"
      ],
      "metadata": {
        "id": "AnAdifmb_7NH"
      },
      "execution_count": 102,
      "outputs": []
    },
    {
      "cell_type": "code",
      "source": [
        "X = np.column_stack([np.ones_like(x1), x1, x2])\n",
        "\n",
        "beta = np.linalg.inv(X.T @ X) @ X.T @ y\n",
        "intercept, b_fuel, b_holiday = beta\n",
        "\n",
        "print(f\"Regression Equation: y = {intercept:.2f} + ({b_fuel:.2f} * FuelPrice) + ({b_holiday:.2f} * Holiday)\")"
      ],
      "metadata": {
        "colab": {
          "base_uri": "https://localhost:8080/"
        },
        "id": "abSVUjVKBrUM",
        "outputId": "a4ef0242-c262-4786-fa7a-24be5509124f"
      },
      "execution_count": 103,
      "outputs": [
        {
          "output_type": "stream",
          "name": "stdout",
          "text": [
            "Regression Equation: y = 278.44 + (-1.99 * FuelPrice) + (20.46 * Holiday)\n"
          ]
        }
      ]
    },
    {
      "cell_type": "code",
      "source": [
        "baseline = y.mean()\n",
        "print(f\"Baseline Rentals: {baseline:.2f}\")"
      ],
      "metadata": {
        "colab": {
          "base_uri": "https://localhost:8080/"
        },
        "id": "jlCPyhNZBzKN",
        "outputId": "9dbe5461-2080-4026-bd1b-628b4df277f3"
      },
      "execution_count": 104,
      "outputs": [
        {
          "output_type": "stream",
          "name": "stdout",
          "text": [
            "Baseline Rentals: 111.00\n"
          ]
        }
      ]
    },
    {
      "cell_type": "code",
      "source": [
        "shap_fuel = b_fuel * (x1 - x1.mean())\n",
        "shap_holiday = b_holiday * (x2 - x2.mean())"
      ],
      "metadata": {
        "id": "QtaLB5dlB0u9"
      },
      "execution_count": 105,
      "outputs": []
    },
    {
      "cell_type": "code",
      "source": [
        "predictions = intercept + b_fuel * x1 + b_holiday * x2\n",
        "verify_sum = baseline + shap_fuel + shap_holiday"
      ],
      "metadata": {
        "id": "81koTSTqB4U_"
      },
      "execution_count": 106,
      "outputs": []
    },
    {
      "cell_type": "code",
      "source": [
        "df = pd.DataFrame({\n",
        "    \"FuelPrice\": x1,\n",
        "    \"Holiday\": x2,\n",
        "    \"Actual\": y,\n",
        "    \"Prediction\": predictions.round(2),\n",
        "    \"Baseline\": round(baseline, 2),\n",
        "    \"SHAP_Fuel\": shap_fuel.round(2),\n",
        "    \"SHAP_Holiday\": shap_holiday.round(2),\n",
        "    \"Verify_Sum\": verify_sum.round(2),\n",
        "    \"Error\": (y - predictions).round(2),\n",
        "     \"Over/Under\": [\"Underpredictions\" if p < a else \"Overpredictions\" if p > a else \"Exact\"\n",
        "for p, a in zip(predictions, y)]\n",
        "})\n",
        "\n",
        "print(df)"
      ],
      "metadata": {
        "colab": {
          "base_uri": "https://localhost:8080/"
        },
        "id": "SMVj0imsB7NR",
        "outputId": "db1c4c54-e0f5-4881-b0dd-9628e8b8496c"
      },
      "execution_count": 107,
      "outputs": [
        {
          "output_type": "stream",
          "name": "stdout",
          "text": [
            "   FuelPrice  Holiday  Actual  Prediction  Baseline  SHAP_Fuel  SHAP_Holiday  \\\n",
            "0       90.0      0.0   100.0       99.64     111.0      -3.18         -8.19   \n",
            "1       85.0      1.0   130.0      130.03     111.0       6.75         12.28   \n",
            "2       95.0      0.0    90.0       89.70     111.0     -13.11         -8.19   \n",
            "3       80.0      1.0   140.0      139.97     111.0      16.69         12.28   \n",
            "4       92.0      0.0    95.0       95.66     111.0      -7.15         -8.19   \n",
            "\n",
            "   Verify_Sum  Error        Over/Under  \n",
            "0       99.64   0.36  Underpredictions  \n",
            "1      130.03  -0.03   Overpredictions  \n",
            "2       89.70   0.30  Underpredictions  \n",
            "3      139.97   0.03  Underpredictions  \n",
            "4       95.66  -0.66   Overpredictions  \n"
          ]
        }
      ]
    },
    {
      "cell_type": "markdown",
      "source": [
        "3.RegressionwithDiabetesDataset\n",
        "\n",
        "Objective:\n",
        "\n",
        " UnderstandhowpatientfeaturesinfluencediseaseprogressionusingMultipleLinearRegression and SHAPvalueanalysis.\n",
        "\n",
        " Tasks\n",
        "\n",
        " 1.PerformMultipleLinearRegressionAnalysis\n",
        "\n",
        "  UseallavailablefeaturesfromtheDiabetesdatasetasindependentvariables.\n",
        "\n",
        "  FitaMultipleLinearRegressionmodeltopredictdiseaseprogression.\n",
        "\n",
        "2.CalculatetheBaselineValue\n",
        "\n",
        "  Computethemeanofthetargetvariable(diseaseprogressionscores)fromthetraining\n",
        " data.\n",
        "\n",
        "  Thiswillserveasthebaselineprediction.\n",
        "\n",
        " 3.CalculateSHAPValues\n",
        "\n",
        "  ApplySHAPtocomputefeaturecontributionstoeachprediction.\n",
        "\n",
        " Usemodelcoefficientstoproportionallyattributethedifferencefromthebaselinetoeach feature.\n",
        "\n",
        " 4.ComputeFinalPredictionforEachRecord\n",
        "\n",
        "  Foreverytestrecord,verifythat:\n",
        "\n",
        " Prediction=Baseline+SHAP(Feature₁)+SHAP(Feature₂)+...+SHAP(Featureₙ)\n",
        "\n",
        " 5.InterprettheResults\n",
        "\n",
        "  Foreachpatientrecord:\n",
        "\n",
        " o Explainhoweachfeaturecontributedtothepredicteddiseaseprogression.\n",
        "\n",
        " o Comparethepredictedvaluevstheactualobservedvalue.\n",
        "\n",
        " o Commentonwhetherthemodeloverpredictedorunderpredictedandwhy,\n",
        " basedonSHAPvalues"
      ],
      "metadata": {
        "id": "ebD6VKkPCBsm"
      }
    },
    {
      "cell_type": "code",
      "source": [
        "import numpy as np\n",
        "import pandas as pd\n",
        "from sklearn.datasets import load_diabetes\n",
        "from sklearn.linear_model import LinearRegression\n",
        "from sklearn.model_selection import train_test_split\n",
        "\n",
        "\n",
        "data = load_diabetes()\n",
        "X = pd.DataFrame(data.data, columns=data.feature_names)\n",
        "y = data.target\n",
        "\n",
        "\n",
        "X_train, X_test, y_train, y_test = train_test_split(X, y, random_state=42)\n",
        "\n",
        "\n",
        "model = LinearRegression()\n",
        "model.fit(X_train, y_train)\n",
        "\n",
        "\n",
        "coef = model.coef_\n",
        "intercept = model.intercept_\n",
        "\n",
        "\n",
        "baseline = np.mean(y_train)\n",
        "print(f\"Baseline (mean of target): {baseline:.2f}\")\n",
        "\n",
        "\n",
        "feature_means = X_train.mean()\n",
        "\n",
        "\n",
        "feature_shap = (X_test - feature_means) * coef\n",
        "\n",
        "\n",
        "y_pred = model.predict(X_test)\n",
        "\n",
        "\n",
        "verify_sum = baseline + feature_shap.sum(axis=1)\n",
        "\n",
        "summary[\"SHAP_Total\"] = feature_shap.sum(axis=1).round(2)\n",
        "summary[\"Baseline\"] = round(baseline, 2)\n",
        "summary[\"Predicted\"] = y_pred.round(2)\n",
        "summary[\"Actual\"] = y_test\n",
        "summary[\"Verify_Sum\"] = verify_sum.round(2)\n",
        "summary[\"Over/Under\"] = [\n",
        "    \"UnderPrediction\" if p < a else \"OverPrediction\" if p > a else \"Exact\"\n",
        "    for p, a in zip(y_pred, y_test)\n",
        "]\n",
        "\n",
        "print(summary.head())\n"
      ],
      "metadata": {
        "colab": {
          "base_uri": "https://localhost:8080/"
        },
        "id": "bT8RS1N3lTfp",
        "outputId": "2400a20b-d2a7-4e6e-cf12-db6e6f727633"
      },
      "execution_count": 109,
      "outputs": [
        {
          "output_type": "stream",
          "name": "stdout",
          "text": [
            "Baseline (mean of target): 154.34\n",
            "      age    sex    bmi     bp      s1     s2    s3     s4     s5    s6  \\\n",
            "287  2.12  10.87  -4.54  -6.60 -114.32  63.61  2.31   9.01  21.36 -0.22   \n",
            "211  4.37  10.87  18.40   7.85   23.44  -8.49  0.16 -10.88 -16.88 -0.66   \n",
            "72   2.98 -12.20  -3.39  -5.29  -94.10  24.77  6.62  -0.93  57.58 -0.55   \n",
            "321  4.54  10.87  26.42  29.75  -49.86  18.57 -8.88  37.85  67.43  1.52   \n",
            "73   0.56 -12.20 -11.99  -1.34  -34.70  27.00 -0.70   9.01  -4.79 -0.33   \n",
            "\n",
            "     SHAP_Total  Baseline  Predicted  Actual  Verify_Sum       Over/Under  \n",
            "287      -16.40    154.34     137.95   219.0      137.95  UnderPrediction  \n",
            "211       28.19    154.34     182.53    70.0      182.53   OverPrediction  \n",
            "72       -24.49    154.34     129.85   202.0      129.85  UnderPrediction  \n",
            "321      138.22    154.34     292.56   230.0      292.56   OverPrediction  \n",
            "73       -29.48    154.34     124.87   111.0      124.87   OverPrediction  \n"
          ]
        }
      ]
    },
    {
      "cell_type": "markdown",
      "source": [
        "4. RegressionwithStudentPerformanceDataset\n",
        "\n",
        "Objective:\n",
        "\n",
        " InvestigatehowstudentbackgroundandbehaviorinfluencefinalexamscoresusingMultipleLinear RegressionandSHAPvalueanalysis.\n",
        "\n",
        " Tasks\n",
        "\n",
        " 1.PerformMultipleLinearRegressionAnalysis\n",
        "\n",
        "  Useallrelevantstudentattributes(e.g.,studytime,parentaleducation,absences,etc.)as independentvariables.\n",
        "\n",
        "  Fitaregressionmodeltopredictthefinalexamscore.\n",
        "\n",
        " 2.CalculatetheBaselineValue\n",
        "\n",
        "  Computethemeanofthefinalexamscoresfromthetrainingset.\n",
        "\n",
        "  Thisservesasthebaselineprediction(expectedvalue).\n",
        "\n",
        " 3.CalculateSHAPValues\n",
        "\n",
        "  UseSHAPtocomputethecontributionofeachstudentattributetothefinalexamscore\n",
        " prediction.\n",
        "\n",
        "  Distributethepredictiondeviationfromthebaselineamongthefeatures.\n",
        "\n",
        " 4.ComputeFinalPredictionforEachRecord\n",
        "\n",
        "  Foreachstudentrecord,confirm:\n",
        "\n",
        " PredictedScore=Baseline+SHAP(Feature₁)+SHAP(Feature₂)+...+SHAP(Featureₙ)\n",
        "\n",
        " 5.InterprettheResults\n",
        "\n",
        "  Foreveryprediction:\n",
        "\n",
        " o Explainhowdifferentfeatures(e.g.,studytime,failures,health)impactedthe\n",
        " examscore.\n",
        "\n",
        " o Comparepredictedscoretoactualscore.\n",
        "\n",
        " o Commentonoverpredictionorunderpredictionandpossiblereasonsbehindit."
      ],
      "metadata": {
        "id": "0481wbkDQ6JB"
      }
    },
    {
      "cell_type": "code",
      "source": [
        "import pandas as pd\n",
        "import numpy as np\n",
        "from sklearn.linear_model import LinearRegression\n",
        "from sklearn.metrics import r2_score\n",
        "from sklearn.preprocessing import LabelEncoder\n",
        "\n",
        "data = {\n",
        "    'studytime': [2, 3, 1, 2, 4, 3, 1, 2, 3, 4],\n",
        "    'failures': [0, 1, 0, 2, 0, 1, 3, 0, 1, 0],\n",
        "    'absences': [4, 10, 2, 0, 6, 8, 12, 3, 7, 1],\n",
        "    'health': [5, 3, 4, 2, 4, 3, 1, 5, 4, 2],\n",
        "    'G3': [15, 12, 14, 10, 18, 13, 8, 16, 14, 19]\n",
        "}\n",
        "\n",
        "df = pd.DataFrame(data)\n",
        "\n",
        "y = df['G3']\n",
        "X = df.drop(columns=['G3'])\n",
        "\n",
        "model = LinearRegression()\n",
        "model.fit(X, y)\n",
        "\n",
        "intercept = model.intercept_\n",
        "coefs = model.coef_\n",
        "\n",
        "print(f\"Model intercept: {intercept:.2f}\")\n",
        "print(\"Model coefficients:\")\n",
        "for feat, coef in zip(X.columns, coefs):\n",
        "    print(f\"  {feat}: {coef:.4f}\")\n",
        "\n",
        "baseline = y.mean()\n",
        "print(f\"Baseline (mean final exam score): {baseline:.2f}\")\n",
        "\n",
        "means = X.mean()\n",
        "shap_values = pd.DataFrame()\n",
        "\n",
        "for feat, coef in zip(X.columns, coefs):\n",
        "    shap_values[feat] = (X[feat] - means[feat]) * coef\n",
        "\n",
        "shap_values['SHAP_Sum'] = shap_values.sum(axis=1)\n",
        "predicted = model.predict(X)\n",
        "pred_check = baseline + shap_values['SHAP_Sum']\n",
        "\n",
        "max_diff = np.abs(predicted - pred_check).max()\n",
        "print(f\"Max difference between model prediction and baseline+SHAP sum: {max_diff:.8f}\")\n",
        "\n",
        "results = X.copy()\n",
        "results['Actual'] = y\n",
        "results['Predicted'] = predicted\n",
        "results['Error'] = results['Actual'] - results['Predicted']\n",
        "results['Overd/Under'] = results['Error'].apply(lambda e: 'Underpredicted' if e > 0 else 'Overpredicted')\n",
        "\n",
        "print(\"\\nResults Table:\")\n",
        "print(results)\n",
        "\n",
        "r2 = r2_score(y, predicted)\n",
        "print(f\"\\nModel R-squared (accuracy): {r2:.4f}\")"
      ],
      "metadata": {
        "colab": {
          "base_uri": "https://localhost:8080/"
        },
        "id": "4vM-xMC0pGau",
        "outputId": "7cb5aed6-b9e8-4805-86dd-2b82148cb216"
      },
      "execution_count": 115,
      "outputs": [
        {
          "output_type": "stream",
          "name": "stdout",
          "text": [
            "Model intercept: 15.20\n",
            "Model coefficients:\n",
            "  studytime: 0.9869\n",
            "  failures: -2.8156\n",
            "  absences: -0.0453\n",
            "  health: -0.3850\n",
            "Baseline (mean final exam score): 13.90\n",
            "Max difference between model prediction and baseline+SHAP sum: 0.00000000\n",
            "\n",
            "Results Table:\n",
            "   studytime  failures  absences  health  Actual  Predicted     Error  \\\n",
            "0          2         0         4       5      15  15.063361 -0.063361   \n",
            "1          3         1        10       3      12  13.733112 -1.733112   \n",
            "2          1         0         2       4      14  14.552015 -0.552015   \n",
            "3          2         2         0       2      10  10.768211 -0.768211   \n",
            "4          4         0         6       4      18  17.331610  0.668390   \n",
            "5          3         1         8       3      13  13.823626 -0.823626   \n",
            "6          1         3        12       1       8   6.807658  1.192342   \n",
            "7          2         0         3       5      16  15.108618  0.891382   \n",
            "8          3         1         7       4      14  13.483868  0.516132   \n",
            "9          4         0         1       2      19  18.327923  0.672077   \n",
            "\n",
            "      Overd/Under  \n",
            "0   Overpredicted  \n",
            "1   Overpredicted  \n",
            "2   Overpredicted  \n",
            "3   Overpredicted  \n",
            "4  Underpredicted  \n",
            "5   Overpredicted  \n",
            "6  Underpredicted  \n",
            "7  Underpredicted  \n",
            "8  Underpredicted  \n",
            "9  Underpredicted  \n",
            "\n",
            "Model R-squared (accuracy): 0.9226\n"
          ]
        }
      ]
    }
  ]
}